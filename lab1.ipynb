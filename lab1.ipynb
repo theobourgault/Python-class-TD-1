{
  "cells": [
    {
      "cell_type": "markdown",
      "metadata": {
        "id": "view-in-github",
        "colab_type": "text"
      },
      "source": [
        "<a href=\"https://colab.research.google.com/github/theobourgault/Python-class-TD-1/blob/main/lab1.ipynb\" target=\"_parent\"><img src=\"https://colab.research.google.com/assets/colab-badge.svg\" alt=\"Open In Colab\"/></a>"
      ]
    },
    {
      "cell_type": "markdown",
      "metadata": {
        "id": "xyMrTDyJV5KP"
      },
      "source": [
        "# Exercise 1.\n",
        "* Write a function that determines if a year (given as parameter) is a leap year or not.\n",
        "    * The function should return a Boolean value.\n",
        "    * A year is a leap year if it is divisible by 4, unless it is also divisible by 100, with the exception that a year divisible by 400 is a leap year."
      ]
    },
    {
      "cell_type": "code",
      "execution_count": 8,
      "metadata": {
        "id": "I8kfJtXSV5KQ",
        "colab": {
          "base_uri": "https://localhost:8080/"
        },
        "outputId": "e2b3a1f9-0be1-4fad-f62d-72ffa6c83781"
      },
      "outputs": [
        {
          "output_type": "stream",
          "name": "stdout",
          "text": [
            "Enter a year: 1919\n",
            "False\n"
          ]
        }
      ],
      "source": [
        "year = int(input(\"Enter a year: \"))\n",
        "\n",
        "if year % 400 == 0:\n",
        "    is_leap = True\n",
        "elif year % 100 == 0:\n",
        "    is_leap = False\n",
        "elif year % 4 == 0:\n",
        "    is_leap = True\n",
        "else:\n",
        "    is_leap = False\n",
        "\n",
        "print(is_leap)"
      ]
    },
    {
      "cell_type": "markdown",
      "metadata": {
        "id": "BRc_n3M2V5KR"
      },
      "source": [
        "# Exercise 2.\n",
        "* Write a function that takes two lists of integers as parameters, representing intervals.\n",
        "    * The function must check that each list contains exactly 2 elements, and computes the union of the two intervals.\n"
      ]
    },
    {
      "cell_type": "code",
      "source": [
        "def interval_union(a, b):\n",
        "    # Check that both lists have exactly 2 elements\n",
        "    if len(a) != 2 or len(b) != 2:\n",
        "        return None  # or raise an error\n",
        "\n",
        "    # Ensure intervals are in the form [min, max]\n",
        "    a_start, a_end = min(a), max(a)\n",
        "    b_start, b_end = min(b), max(b)\n",
        "\n",
        "    # Union of the two intervals is from the smallest start to the largest end\n",
        "    union_start = min(a_start, b_start)\n",
        "    union_end = max(a_end, b_end)\n",
        "\n",
        "    return [union_start, union_end]\n",
        "\n",
        "\n",
        "print(interval_union([1,7],[3,9]))\n"
      ],
      "metadata": {
        "id": "amJFLUHchYqq",
        "colab": {
          "base_uri": "https://localhost:8080/"
        },
        "outputId": "a5c783ab-bb25-481e-fe50-bdf05920292d"
      },
      "execution_count": 14,
      "outputs": [
        {
          "output_type": "stream",
          "name": "stdout",
          "text": [
            "[1, 9]\n"
          ]
        }
      ]
    },
    {
      "cell_type": "markdown",
      "metadata": {
        "id": "ktiL8oQeV5KR"
      },
      "source": [
        "# Exercise 3.\n",
        "* Write a function that determines if a number given as parameter is a perfect number.\n",
        "    * A perfect number is a positive integer equal to the sum of its positive proper divisors (divisors excluding the number itself)."
      ]
    },
    {
      "cell_type": "code",
      "source": [
        "def is_perfect(n):\n",
        "    if n <= 0:\n",
        "        return False\n",
        "\n",
        "    total = 0\n",
        "    for i in range(1, n):\n",
        "        if n % i == 0:   # i is a divisor\n",
        "            total += i\n",
        "\n",
        "    return total == n\n",
        "\n",
        "\n",
        "# Examples\n",
        "print(is_perfect(6))    # True (1 + 2 + 3 = 6)\n",
        "print(is_perfect(28))   # True (1 + 2 + 4 + 7 + 14 = 28)\n",
        "print(is_perfect(12))   # False\n",
        "print(is_perfect(1))    # False\n"
      ],
      "metadata": {
        "id": "IfYdSky-hbhE",
        "colab": {
          "base_uri": "https://localhost:8080/"
        },
        "outputId": "4779b0f1-213a-405d-c571-e18a0af7bca2"
      },
      "execution_count": 11,
      "outputs": [
        {
          "output_type": "stream",
          "name": "stdout",
          "text": [
            "True\n",
            "True\n",
            "False\n",
            "False\n"
          ]
        }
      ]
    },
    {
      "cell_type": "markdown",
      "metadata": {
        "id": "PUr4EHtxV5KR"
      },
      "source": [
        "# Exercise 4.\n",
        "* Write a function that returns the min and max values of a list given as parameter."
      ]
    },
    {
      "cell_type": "code",
      "source": [
        "def find_min_max(numbers):\n",
        "    if len(numbers) == 0:\n",
        "        return None  # empty list\n",
        "\n",
        "    min_val = numbers[0]\n",
        "    max_val = numbers[0]\n",
        "\n",
        "    for n in numbers:\n",
        "        if n < min_val:\n",
        "            min_val = n\n",
        "        if n > max_val:\n",
        "            max_val = n\n",
        "\n",
        "    return [min_val, max_val]\n",
        "\n",
        "\n",
        "# Examples\n",
        "print(find_min_max([-3, 7, -2, 9, 5]))\n",
        "print(find_min_max([10]))"
      ],
      "metadata": {
        "id": "oKzHA7rwhl6K",
        "colab": {
          "base_uri": "https://localhost:8080/"
        },
        "outputId": "af9e75bc-310e-4603-f432-137df0cce631"
      },
      "execution_count": 17,
      "outputs": [
        {
          "output_type": "stream",
          "name": "stdout",
          "text": [
            "[-3, 9]\n",
            "[10, 10]\n"
          ]
        }
      ]
    },
    {
      "cell_type": "markdown",
      "metadata": {
        "id": "jx9EIBovV5KR"
      },
      "source": [
        "# Exercise 5.\n",
        "* Write a function that checks if a list given as parameter is a Fibonacci sequence."
      ]
    },
    {
      "cell_type": "code",
      "execution_count": 19,
      "metadata": {
        "id": "y0bNPPgsV5KS",
        "colab": {
          "base_uri": "https://localhost:8080/"
        },
        "outputId": "b04ec1d6-b7bd-4691-a618-9f45d401da35"
      },
      "outputs": [
        {
          "output_type": "stream",
          "name": "stdout",
          "text": [
            "True\n",
            "False\n",
            "True\n",
            "True\n"
          ]
        }
      ],
      "source": [
        "def is_fibonacci(seq):\n",
        "    if len(seq) < 3:\n",
        "        return True  # with less than 3 numbers, we cannot disprove\n",
        "\n",
        "    for i in range(2, len(seq)):\n",
        "        if seq[i] != seq[i-1] + seq[i-2]:\n",
        "            return False\n",
        "    return True\n",
        "\n",
        "\n",
        "# Examples\n",
        "print(is_fibonacci([0, 1, 1, 2, 3, 5, 8]))\n",
        "print(is_fibonacci([2, 5, 6, 10]))\n",
        "print(is_fibonacci([5, 8, 13, 21]))\n",
        "print(is_fibonacci([1, 2]))"
      ]
    },
    {
      "cell_type": "markdown",
      "metadata": {
        "id": "YtORIYaqV5KS"
      },
      "source": [
        "# Exercise 6.\n",
        "* Write a function that takes as input a two-dimensional list and computes the average for each row in the list.\n",
        "    * The function should return a list containing the average value of each row."
      ]
    },
    {
      "cell_type": "code",
      "execution_count": 20,
      "metadata": {
        "id": "JTPlfNtzV5KS",
        "colab": {
          "base_uri": "https://localhost:8080/"
        },
        "outputId": "1049850b-9cbc-4a79-e6a3-d3f7345d70ea"
      },
      "outputs": [
        {
          "output_type": "stream",
          "name": "stdout",
          "text": [
            "[2.0, 5.0, 7.5]\n",
            "[15.0, None, 5.0]\n"
          ]
        }
      ],
      "source": [
        "def row_averages(matrix):\n",
        "    averages = []\n",
        "    for row in matrix:\n",
        "        if len(row) == 0:\n",
        "            averages.append(None)  # avoid division by zero\n",
        "        else:\n",
        "            total = 0\n",
        "            for n in row:\n",
        "                total += n\n",
        "            avg = total / len(row)\n",
        "            averages.append(avg)\n",
        "    return averages\n",
        "\n",
        "\n",
        "# Examples\n",
        "print(row_averages([[1, 2, 3], [4, 5, 6], [7, 8]]))\n",
        "# [2.0, 5.0, 7.5]\n",
        "\n",
        "print(row_averages([[10, 20], [], [5]]))"
      ]
    }
  ],
  "metadata": {
    "language_info": {
      "name": "python"
    },
    "colab": {
      "provenance": [],
      "include_colab_link": true
    },
    "kernelspec": {
      "name": "python3",
      "display_name": "Python 3"
    }
  },
  "nbformat": 4,
  "nbformat_minor": 0
}